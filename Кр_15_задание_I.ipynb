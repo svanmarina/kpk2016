{
  "nbformat": 4,
  "nbformat_minor": 0,
  "metadata": {
    "colab": {
      "provenance": [],
      "include_colab_link": true
    },
    "kernelspec": {
      "name": "python3",
      "display_name": "Python 3"
    },
    "language_info": {
      "name": "python"
    }
  },
  "cells": [
    {
      "cell_type": "markdown",
      "metadata": {
        "id": "view-in-github",
        "colab_type": "text"
      },
      "source": [
        "<a href=\"https://colab.research.google.com/github/svanmarina/kpk2016/blob/master/%D0%9A%D1%80_15_%D0%B7%D0%B0%D0%B4%D0%B0%D0%BD%D0%B8%D0%B5_I.ipynb\" target=\"_parent\"><img src=\"https://colab.research.google.com/assets/colab-badge.svg\" alt=\"Open In Colab\"/></a>"
      ]
    },
    {
      "cell_type": "markdown",
      "source": [
        "Обозначим через ДЕЛ(n, m) утверждение «натуральное число n делится без остатка на натуральное число m». Для какого наибольшего натурального числа А формула\n",
        "\n",
        "$¬ДЕЛ(x,А) → (ДЕЛ(x,6) → ¬ДЕЛ(x,4))$\n",
        "\n",
        "тождественно истинна (то есть принимает значение 1 при любом натуральном значении переменной х)?"
      ],
      "metadata": {
        "id": "3fsGIwbKpBjh"
      }
    },
    {
      "cell_type": "code",
      "source": [
        "##Примитивное решение циклом\n",
        "for a in range(1,101):\n",
        "    #для каждого значения a проверяем много значений x\n",
        "    #x проверяем с десятикратным запасом\n",
        "    k = 0 #счётчик истинных значений x\n",
        "    for x in range(1,10001):\n",
        "        f = (x%a!=0) <= ((x%6==0) <= (x%4!=0))\n",
        "        if f==1:\n",
        "            k = k + 1\n",
        "        else:\n",
        "            break #если где-то ложь, то нет смысла проверять остальное\n",
        "    #если во всех значениях x было 1, то значит можно считать, что а подходит\n",
        "    if k==10000:\n",
        "        print(a)\n",
        "\n",
        "##Актуальное решение через all\n",
        "def f(x,a):\n",
        "    return (x%a!=0) <= ((x%6==0) <= (x%4!=0))\n",
        "\n",
        "for a in range(1,100):\n",
        "    if all(f(x,a)==1 for x in range(1,10000)):\n",
        "        print(a)"
      ],
      "metadata": {
        "id": "hMREeLlDoYyV"
      },
      "execution_count": null,
      "outputs": []
    },
    {
      "cell_type": "markdown",
      "source": [
        "Обозначим через ДЕЛ(n, m) утверждение «натуральное число n делится без остатка на натуральное число m». Для какого наименьшего натурального числа A формула\n",
        "\n",
        "$ (ДЕЛ(x, 2) → ¬ДЕЛ(x, 5)) ∨ (x + A ≥ 70) $\n",
        "\n",
        "тождественно истинна (то есть принимает значение 1 при любом натуральном значении переменной х)?"
      ],
      "metadata": {
        "id": "5-LwqOCnKE0y"
      }
    },
    {
      "cell_type": "code",
      "source": [
        "def f(x,a):\n",
        "    return ((x%2==0) <= (x%5!=0)) or (x+a>=70)\n",
        "\n",
        "for a in range(1,100):\n",
        "    if all(f(x,a)==1 for x in range(1,10000)):\n",
        "        print(a)"
      ],
      "metadata": {
        "id": "UkK9jWu6oqZ7"
      },
      "execution_count": null,
      "outputs": []
    },
    {
      "cell_type": "markdown",
      "source": [
        "(ЕГЭ-2024) Обозначим через ДЕЛ(n, m) утверждение «натуральное число n делится без остатка на натуральное число m». Для какого наибольшего натурального числа A формула\n",
        "\n",
        "$ ДЕЛ(х, 33) → (¬ДЕЛ(х, A) → ¬ДЕЛ(х, 242)) $\n",
        "\n",
        "тождественно истинна (то есть принимает значение 1 при любом натуральном значении переменной х)?"
      ],
      "metadata": {
        "id": "YBmbiP5bKRnM"
      }
    },
    {
      "cell_type": "code",
      "source": [
        "def f(x,a):\n",
        "    return (x%33==0) <= ((x%a!=0) <= (x%242!=0))\n",
        "\n",
        "for a in range(1,10000):\n",
        "    if all(f(x,a)==1 for x in range(1,100000)):\n",
        "        print(a)"
      ],
      "metadata": {
        "id": "uu3_UZ7pospR"
      },
      "execution_count": null,
      "outputs": []
    },
    {
      "cell_type": "markdown",
      "source": [
        "(А. Богданов) Обозначим через ДЕЛ(n, m) утверждение «натуральное число n делится без остатка на натуральное число m». Пусть на числовой прямой дан отрезок В = [70, 90]. Для какого наибольшего натурального числа А логическое выражение\n",
        "\n",
        "$ ДЕЛ(х, А) ∨ ((х ∈ В) → ¬ДЕЛ(х, 22)) $\n",
        "\n",
        "тождественно истинно (т.е. принимает значение 1) при любом натуральном значении переменной х?"
      ],
      "metadata": {
        "id": "McMgyyUlKYk2"
      }
    },
    {
      "cell_type": "code",
      "source": [
        "def f(x,a):\n",
        "    return (x%a==0) or ((70<=x<=90) <= (x%22!=0))\n",
        "\n",
        "for a in range(1,100):\n",
        "    if all(f(x,a)==1 for x in range(1,10000)):\n",
        "        print(a)"
      ],
      "metadata": {
        "id": "rNN2VUq7ouvR"
      },
      "execution_count": null,
      "outputs": []
    },
    {
      "cell_type": "markdown",
      "source": [
        "(А. Кабанов) Обозначим через ДЕЛ(n, m) утверждение «натуральное число n делится без остатка на натуральное число m» ; и пусть на числовой прямой дан отрезок B = [70; 80]. Для какого количества различных натуральных значений числа А формула\n",
        "\n",
        "$ ДЕЛ(x, 12) ∧ (x ∈ B) ∧ ¬ДЕЛ(x, A) $\n",
        "\n",
        "тождественно ложна, то есть принимает значение 0 при любом натуральном значении переменной х?"
      ],
      "metadata": {
        "id": "sizTfuoyLpf-"
      }
    },
    {
      "cell_type": "code",
      "source": [
        "def f(x,a):\n",
        "    return (x%12==0) and (70<=x<=80) and (x%a!=0)\n",
        "\n",
        "for a in range(1,100):\n",
        "    if all(f(x,a)==0 for x in range(1,10000)):\n",
        "        print(a)"
      ],
      "metadata": {
        "id": "Wnv44sn3ow01"
      },
      "execution_count": null,
      "outputs": []
    },
    {
      "cell_type": "markdown",
      "source": [
        "Обозначим через m & n поразрядную конъюнкцию неотрицательных целых чисел m и n. Например, 14 & 5 = 11102 & 01012 = 01002 = 4. Для какого наименьшего натурального числа А формула\n",
        "\n",
        "$ ((x \\& 156 ≠ 0) ∨ (x \\& 436 ≠ 0)) → (x \\& А > 0) $\n",
        "\n",
        "тождественно истинно (то есть принимает значение 1 при любом неотрицательном значении переменной X)?"
      ],
      "metadata": {
        "id": "C163cvNfKgrg"
      }
    },
    {
      "cell_type": "code",
      "source": [
        "def f(x,a):\n",
        "    return ((x&156!=0) or (x&436!=0)) <= (x&a>0)\n",
        "for a in range(1,1000):\n",
        "    if all(f(x,a)==1 for x in range(0,10000)):\n",
        "        print(a)"
      ],
      "metadata": {
        "id": "W_lQbGt3ozKI"
      },
      "execution_count": null,
      "outputs": []
    },
    {
      "cell_type": "markdown",
      "source": [
        "Введём выражение M & K, обозначающее поразрядную конъюнкцию M и K (логическое «И» между соответствующими битами двоичной записи). Определите наименьшее натуральное число A, такое что выражение\n",
        "\n",
        "$(( (X \\& 13 ≠ 0) ∨ (X \\& A = 0)) → (X \\& 13 ≠ 0)) ∨ (X \\& A ≠ 0) ∨ (X \\& 39 = 0)$\n",
        "\n",
        "тождественно истинно (то есть принимает значение 1 при любом натуральном значении переменной X)?"
      ],
      "metadata": {
        "id": "5jScSYuIKtpL"
      }
    },
    {
      "cell_type": "code",
      "source": [
        "def f(x,a):\n",
        "    return (((x&13!=0) or (x&a==0))<=(x&13!=0)) or (x&a!=0) or (x&39==0)\n",
        "\n",
        "for a in range(1,100):\n",
        "    if all(f(x,a)==1 for x in range(1,10000)):\n",
        "        print(a)"
      ],
      "metadata": {
        "id": "ipWcPdxqo1xF"
      },
      "execution_count": null,
      "outputs": []
    },
    {
      "cell_type": "markdown",
      "source": [
        "Укажите наименьшее целое значение А, при котором выражение\n",
        "\n",
        "$ (3y + 2x < A) ∨ (x > 8) ∨ (y > 12) $\n",
        "\n",
        "истинно для любых целых положительных значений x и y."
      ],
      "metadata": {
        "id": "XiS6NuUqLQlL"
      }
    },
    {
      "cell_type": "code",
      "source": [
        "def f(x,y,a):\n",
        "    return (3*y + 2*x <a) or (x>8) or (y>12)\n",
        "\n",
        "for a in range(0,100):\n",
        "    if all(f(x,y,a)==1 for x in range(1,100) for y in range(1,100)):\n",
        "        print(a)"
      ],
      "metadata": {
        "id": "PYJEdOqVo4Nh"
      },
      "execution_count": null,
      "outputs": []
    },
    {
      "cell_type": "markdown",
      "source": [
        "(А. Богданов) Для какого наибольшего целого неотрицательного A выражение\n",
        "\n",
        "$ (7y + 5x < 1000) ∨ (x < y) ∨ (A < x) $\n",
        "\n",
        "тождественно истинно, т.е. принимает значение 1 при любых целых неотрицательных x и y?"
      ],
      "metadata": {
        "id": "c1nUYo4jLXhU"
      }
    },
    {
      "cell_type": "code",
      "source": [
        "def f(x,y,a):\n",
        "    return (7*y + 5*x < 1000) or (x<y) or (a<x)\n",
        "\n",
        "for a in range(300):\n",
        "    if all(f(x,y,a)==1 for x in range(300) for y in range(300)):\n",
        "        print(a)"
      ],
      "metadata": {
        "id": "_ZIZSk-mpZIi"
      },
      "execution_count": null,
      "outputs": []
    },
    {
      "cell_type": "markdown",
      "source": [
        "(ЕГЭ-2024) Для какого наибольшего целого неотрицательного числа А формула\n",
        "\n",
        "$ (х + у ≤ 30) ∨ (у ≤ х+2) ∨ (у ≥ А) $\n",
        "\n",
        "тождественно истинна (т.е. принимает значение 1) при любых целых положительных х и у."
      ],
      "metadata": {
        "id": "4fy6AKYxLhLQ"
      }
    },
    {
      "cell_type": "code",
      "source": [
        "def f(x,y,a):\n",
        "    return (x+y<=30) or (y<=x+2) or (y>=a)\n",
        "\n",
        "for a in range(0,100):\n",
        "    if all(f(x,y,a)==1 for x in range(1,100) for y in range(1,100)):\n",
        "        print(a)"
      ],
      "metadata": {
        "id": "Kz2cBgORpaPw"
      },
      "execution_count": null,
      "outputs": []
    },
    {
      "cell_type": "markdown",
      "source": [
        "Обозначим через ТРЕУГ(n, m, k) утверждение «существует невырожденный треугольник с длинами сторон n, m и k». Для какого наибольшего натурального числа А формула\n",
        "\n",
        "$¬((ТРЕУГ(х, 11, 18) ≡ (¬(MAKC(x, 5) > 68))) ⋀ ТРЕУГ(х, А, 5))$\n",
        "\n",
        "тождественно истинна (т. е. принимает значение 1) при любом натуральном значении переменной х?\n",
        "\n",
        "Примечание. МАКС(а, b) = а, если а > b и МАКС(а, b) = b, если а ≤ b."
      ],
      "metadata": {
        "id": "adwl4c8IUgyq"
      }
    },
    {
      "cell_type": "code",
      "source": [
        "def treug(n,m,k):\n",
        "    return n+m>k and n+k>m and m+k>n\n",
        "\n",
        "def f(x,a):\n",
        "    return not((treug(x,11,18)==(not(max(x,5)>68))) and treug(x,a,5))\n",
        "for a in range(1,100):\n",
        "    if all(f(x,a)==1 for x in range(1,10000)):\n",
        "        print(a)"
      ],
      "metadata": {
        "id": "gGIUHM4QpcxM"
      },
      "execution_count": null,
      "outputs": []
    }
  ]
}